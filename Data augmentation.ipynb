{
 "cells": [
  {
   "cell_type": "code",
   "execution_count": null,
   "id": "aeb7bb7d",
   "metadata": {},
   "outputs": [],
   "source": []
  },
  {
   "cell_type": "code",
   "execution_count": 1,
   "id": "c3e9ca19",
   "metadata": {},
   "outputs": [],
   "source": [
    "from keras.preprocessing.image import ImageDataGenerator ,array_to_img, img_to_array, load_img\n",
    "import os\n",
    "from skimage import io\n",
    "from PIL import Image\n",
    "import numpy as np\n",
    "import glob\n",
    "import cv2\n",
    "from matplotlib import pyplot as plt"
   ]
  },
  {
   "cell_type": "code",
   "execution_count": 6,
   "id": "7cea33b5",
   "metadata": {},
   "outputs": [],
   "source": [
    "datagen = ImageDataGenerator(\n",
    "        rotation_range=35,\n",
    "        width_shift_range=0.1,\n",
    "        height_shift_range=0.1,\n",
    "        rescale=1./255,\n",
    "        shear_range=0.1,\n",
    "        zoom_range=0.0,\n",
    "        horizontal_flip=True,\n",
    "        fill_mode='nearest')"
   ]
  },
  {
   "cell_type": "code",
   "execution_count": 8,
   "id": "34440b37",
   "metadata": {},
   "outputs": [],
   "source": [
    "image_directory = 'F:\\\\leaves_new\\\\test\\\\jatropha\\\\'\n",
    "SIZE = 256\n",
    "dataset = []"
   ]
  },
  {
   "cell_type": "code",
   "execution_count": 9,
   "id": "83929dd2",
   "metadata": {},
   "outputs": [],
   "source": [
    "my_images = os.listdir(image_directory)\n",
    "for i, image_name in enumerate(my_images):           \n",
    "        image = io.imread(image_directory + image_name,plugin='matplotlib')\n",
    "        try:\n",
    "            image =Image.fromarray(image, 'RGB')\n",
    "            image = image.resize((SIZE,SIZE))\n",
    "            dataset.append(np.array(image))\n",
    "        except:\n",
    "            print(\"An exception occurred\")"
   ]
  },
  {
   "cell_type": "code",
   "execution_count": 10,
   "id": "cd977dad",
   "metadata": {},
   "outputs": [
    {
     "data": {
      "text/plain": [
       "10"
      ]
     },
     "execution_count": 10,
     "metadata": {},
     "output_type": "execute_result"
    }
   ],
   "source": [
    "len(dataset)"
   ]
  },
  {
   "cell_type": "code",
   "execution_count": null,
   "id": "a174e22c",
   "metadata": {},
   "outputs": [],
   "source": [
    "my_images = os.listdir(image_directory)\n",
    "for i, image_name in enumerate(my_images):    \n",
    "    if (image_name.split('.')[1] == 'jpg'):        \n",
    "        image = cv2.imread(image_directory + image_name)\n",
    "        try:\n",
    "            image =cv2.cvtColor(image, cv2.COLOR_BGR2RGB )\n",
    "            image = image.resize((SIZE,SIZE))\n",
    "            dataset.append(np.array(image))\n",
    "        except:\n",
    "            print(\"An exception occurred\")"
   ]
  },
  {
   "cell_type": "code",
   "execution_count": null,
   "id": "17a00546",
   "metadata": {},
   "outputs": [],
   "source": [
    "len(dataset)"
   ]
  },
  {
   "cell_type": "code",
   "execution_count": 11,
   "id": "8f804bac",
   "metadata": {},
   "outputs": [],
   "source": [
    "x = np.array(dataset)\n",
    "i = 0\n",
    "for batch in datagen.flow(x, batch_size=1,\n",
    "                          save_to_dir='F:\\\\leaves_new\\\\test\\\\jatropha',\n",
    "                          save_prefix='aug_ja',\n",
    "                          save_format='.jpg'):\n",
    "    i+=1\n",
    "    if i > len(dataset)*4: #Epochs\n",
    "        break"
   ]
  },
  {
   "cell_type": "code",
   "execution_count": 44,
   "id": "80bf6fcb",
   "metadata": {},
   "outputs": [],
   "source": [
    "image_directory = 'F:\\\\leaves2\\\\main images\\\\for rose aug'\n",
    "SIZE = 256\n",
    "dataset = []"
   ]
  },
  {
   "cell_type": "code",
   "execution_count": 45,
   "id": "76eb5ed9",
   "metadata": {},
   "outputs": [],
   "source": [
    "for img_path in glob.glob(os.path.join(image_directory, \"*\")):\n",
    "    img = cv2.imread(img_path)\n",
    "    if img is None:\n",
    "        print('Wrong path:', img_path)\n",
    "    else:\n",
    "        img = cv2.cvtColor(img, cv2.COLOR_BGR2RGB)\n",
    "        \n",
    "        image = cv2.resize(img, (SIZE, SIZE))\n",
    "        dataset.append(np.array(image))"
   ]
  },
  {
   "cell_type": "code",
   "execution_count": 46,
   "id": "57d414cb",
   "metadata": {},
   "outputs": [
    {
     "data": {
      "text/plain": [
       "121"
      ]
     },
     "execution_count": 46,
     "metadata": {},
     "output_type": "execute_result"
    }
   ],
   "source": [
    "len(dataset)"
   ]
  },
  {
   "cell_type": "code",
   "execution_count": null,
   "id": "7e75eaf0",
   "metadata": {},
   "outputs": [],
   "source": []
  },
  {
   "cell_type": "code",
   "execution_count": 44,
   "id": "b3f02145",
   "metadata": {},
   "outputs": [],
   "source": [
    "x = np.array(dataset)\n",
    "i = 0\n",
    "for batch in datagen.flow(x, batch_size=1,\n",
    "                          save_to_dir='F:\\\\leaves\\\\leaves_species\\\\test\\\\ruillea',\n",
    "                          save_prefix='aug_ruillea',\n",
    "                          save_format='.jpg'):\n",
    "    i+=1\n",
    "    if i > len(dataset)*1: #Epochs\n",
    "        break"
   ]
  },
  {
   "cell_type": "code",
   "execution_count": null,
   "id": "03225ddd",
   "metadata": {},
   "outputs": [],
   "source": []
  },
  {
   "cell_type": "code",
   "execution_count": null,
   "id": "585b429e",
   "metadata": {},
   "outputs": [],
   "source": []
  },
  {
   "cell_type": "code",
   "execution_count": 49,
   "id": "a650485c",
   "metadata": {
    "scrolled": true
   },
   "outputs": [
    {
     "data": {
      "text/plain": [
       "<matplotlib.image.AxesImage at 0x23603a7e520>"
      ]
     },
     "execution_count": 49,
     "metadata": {},
     "output_type": "execute_result"
    },
    {
     "data": {
      "image/png": "[encoded data removed]",
      "text/plain": [
       "<Figure size 288x288 with 1 Axes>"
      ]
     },
     "metadata": {
      "needs_background": "light"
     },
     "output_type": "display_data"
    }
   ],
   "source": [
    "plt.matshow(dataset[5])"
   ]
  },
  {
   "cell_type": "code",
   "execution_count": null,
   "id": "371a5803",
   "metadata": {},
   "outputs": [],
   "source": []
  }
 ],
 "metadata": {
  "kernelspec": {
   "display_name": "Python 3 (ipykernel)",
   "language": "python",
   "name": "python3"
  },
  "language_info": {
   "codemirror_mode": {
    "name": "ipython",
    "version": 3
   },
   "file_extension": ".py",
   "mimetype": "text/x-python",
   "name": "python",
   "nbconvert_exporter": "python",
   "pygments_lexer": "ipython3",
   "version": "3.9.7"
  }
 },
 "nbformat": 4,
 "nbformat_minor": 5
}
